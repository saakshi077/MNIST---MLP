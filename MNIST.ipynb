{
 "cells": [
  {
   "cell_type": "markdown",
   "metadata": {},
   "source": [
    "Importing Libaries"
   ]
  },
  {
   "cell_type": "code",
   "execution_count": 1,
   "metadata": {},
   "outputs": [
    {
     "name": "stderr",
     "output_type": "stream",
     "text": [
      "2022-06-29 21:05:51.462570: W tensorflow/stream_executor/platform/default/dso_loader.cc:64] Could not load dynamic library 'libcudart.so.11.0'; dlerror: libcudart.so.11.0: cannot open shared object file: No such file or directory\n",
      "2022-06-29 21:05:51.514378: I tensorflow/stream_executor/cuda/cudart_stub.cc:29] Ignore above cudart dlerror if you do not have a GPU set up on your machine.\n"
     ]
    }
   ],
   "source": [
    "import tensorflow as tf\n",
    "from tensorflow  import keras\n",
    "from keras import Sequential\n",
    "from keras import activations\n",
    "import numpy as np\n",
    "import matplotlib.pyplot as plt\n",
    "%matplotlib inline"
   ]
  },
  {
   "cell_type": "code",
   "execution_count": 2,
   "metadata": {},
   "outputs": [],
   "source": [
    "#importing the MNIST dataset and dividing the data for testing and training\n",
    "(x_train,y_train),(x_test,y_test) =keras.datasets.mnist.load_data()\n",
    "\n",
    "# here X refers to the feature variable we will feed into the data and Y refers to the target variable or the variable we are training the model to predict "
   ]
  },
  {
   "cell_type": "markdown",
   "metadata": {},
   "source": [
    "Studying the Dataset\n",
    "(we will try to find more about the dataset in order to build the network)"
   ]
  },
  {
   "cell_type": "code",
   "execution_count": 3,
   "metadata": {},
   "outputs": [
    {
     "name": "stdout",
     "output_type": "stream",
     "text": [
      "60000\n",
      "60000\n",
      "10000\n",
      "10000\n"
     ]
    },
    {
     "data": {
      "text/plain": [
       "(28, 28)"
      ]
     },
     "execution_count": 3,
     "metadata": {},
     "output_type": "execute_result"
    }
   ],
   "source": [
    "print(len(x_train))\n",
    "print(len(y_train))\n",
    "print(len(x_test))\n",
    "print(len(y_test))\n",
    "x_train[0].shape\n",
    "\n",
    "# The model will be trained on 60,000 images and tested on 10000 images\n",
    "# Each hand written Digit image is 28 x 28 "
   ]
  },
  {
   "cell_type": "markdown",
   "metadata": {},
   "source": [
    "Normalizing Data \n",
    "(Rescaling the orginal range and bringing the values ranging from 0-255 to 0-1)"
   ]
  },
  {
   "cell_type": "code",
   "execution_count": null,
   "metadata": {},
   "outputs": [],
   "source": []
  },
  {
   "cell_type": "code",
   "execution_count": 4,
   "metadata": {},
   "outputs": [],
   "source": [
    "x_train = tf.keras.utils.normalize(x_train,axis =1 )\n",
    "x_test = tf.keras.utils.normalize(x_test,axis =1 )"
   ]
  },
  {
   "cell_type": "markdown",
   "metadata": {},
   "source": [
    "Creating the Neural Network Model"
   ]
  },
  {
   "cell_type": "code",
   "execution_count": 5,
   "metadata": {},
   "outputs": [
    {
     "name": "stderr",
     "output_type": "stream",
     "text": [
      "2022-06-29 21:11:04.623675: W tensorflow/stream_executor/platform/default/dso_loader.cc:64] Could not load dynamic library 'libcuda.so.1'; dlerror: libcuda.so.1: cannot open shared object file: No such file or directory\n",
      "2022-06-29 21:11:04.639083: W tensorflow/stream_executor/cuda/cuda_driver.cc:269] failed call to cuInit: UNKNOWN ERROR (303)\n",
      "2022-06-29 21:11:04.663514: I tensorflow/stream_executor/cuda/cuda_diagnostics.cc:156] kernel driver does not appear to be running on this host (Aspire-E5-573): /proc/driver/nvidia/version does not exist\n",
      "2022-06-29 21:11:05.080330: I tensorflow/core/platform/cpu_feature_guard.cc:193] This TensorFlow binary is optimized with oneAPI Deep Neural Network Library (oneDNN) to use the following CPU instructions in performance-critical operations:  AVX2 FMA\n",
      "To enable them in other operations, rebuild TensorFlow with the appropriate compiler flags.\n"
     ]
    }
   ],
   "source": [
    "\n",
    "model= tf.keras.models.Sequential()\n",
    "#flattening the image vector to one dimension for input layer\n",
    "model.add(tf.keras.layers.Flatten())\n",
    "model.add(tf.keras.layers.Dense(128,activation='sigmoid' )) \n",
    "model.add(tf.keras.layers.Dense(10,activation= 'softmax'))\n"
   ]
  },
  {
   "cell_type": "code",
   "execution_count": 62,
   "metadata": {},
   "outputs": [
    {
     "name": "stderr",
     "output_type": "stream",
     "text": [
      "2022-06-30 02:51:53.307821: W tensorflow/core/framework/cpu_allocator_impl.cc:82] Allocation of 188160000 exceeds 10% of free system memory.\n"
     ]
    },
    {
     "name": "stdout",
     "output_type": "stream",
     "text": [
      "Epoch 1/25\n",
      "1875/1875 [==============================] - 21s 8ms/step - loss: 8.3527e-05 - accuracy: 1.0000 - val_loss: 0.1324 - val_accuracy: 0.9763\n",
      "Epoch 2/25\n",
      "1875/1875 [==============================] - 11s 6ms/step - loss: 5.5035e-05 - accuracy: 1.0000 - val_loss: 0.1336 - val_accuracy: 0.9766\n",
      "Epoch 3/25\n",
      "1875/1875 [==============================] - 10s 5ms/step - loss: 1.0472e-04 - accuracy: 1.0000 - val_loss: 0.1444 - val_accuracy: 0.9754\n",
      "Epoch 4/25\n",
      "1875/1875 [==============================] - 11s 6ms/step - loss: 5.1580e-05 - accuracy: 1.0000 - val_loss: 0.1406 - val_accuracy: 0.9776\n",
      "Epoch 5/25\n",
      "1875/1875 [==============================] - 11s 6ms/step - loss: 2.6724e-05 - accuracy: 1.0000 - val_loss: 0.1390 - val_accuracy: 0.9776\n",
      "Epoch 6/25\n",
      "1875/1875 [==============================] - 11s 6ms/step - loss: 2.7119e-05 - accuracy: 1.0000 - val_loss: 0.1412 - val_accuracy: 0.9769\n",
      "Epoch 7/25\n",
      "1875/1875 [==============================] - 11s 6ms/step - loss: 2.3176e-05 - accuracy: 1.0000 - val_loss: 0.1408 - val_accuracy: 0.9768\n",
      "Epoch 8/25\n",
      "1875/1875 [==============================] - 10s 6ms/step - loss: 4.1883e-05 - accuracy: 1.0000 - val_loss: 0.1574 - val_accuracy: 0.9754\n",
      "Epoch 9/25\n",
      "1875/1875 [==============================] - 11s 6ms/step - loss: 2.3194e-05 - accuracy: 1.0000 - val_loss: 0.1478 - val_accuracy: 0.9767\n",
      "Epoch 10/25\n",
      "1875/1875 [==============================] - 11s 6ms/step - loss: 5.0406e-05 - accuracy: 1.0000 - val_loss: 0.1574 - val_accuracy: 0.9748\n",
      "Epoch 11/25\n",
      "1875/1875 [==============================] - 11s 6ms/step - loss: 2.5058e-05 - accuracy: 1.0000 - val_loss: 0.1501 - val_accuracy: 0.9760\n",
      "Epoch 12/25\n",
      "1875/1875 [==============================] - 11s 6ms/step - loss: 9.5131e-06 - accuracy: 1.0000 - val_loss: 0.1520 - val_accuracy: 0.9772\n",
      "Epoch 13/25\n",
      "1875/1875 [==============================] - 10s 5ms/step - loss: 8.2029e-06 - accuracy: 1.0000 - val_loss: 0.1531 - val_accuracy: 0.9766\n",
      "Epoch 14/25\n",
      "1875/1875 [==============================] - 10s 5ms/step - loss: 1.5811e-05 - accuracy: 1.0000 - val_loss: 0.1594 - val_accuracy: 0.9763\n",
      "Epoch 15/25\n",
      "1875/1875 [==============================] - 10s 5ms/step - loss: 8.5841e-06 - accuracy: 1.0000 - val_loss: 0.1576 - val_accuracy: 0.9764\n",
      "Epoch 16/25\n",
      "1875/1875 [==============================] - 10s 6ms/step - loss: 9.5141e-05 - accuracy: 0.9999 - val_loss: 0.1577 - val_accuracy: 0.9762\n",
      "Epoch 17/25\n",
      "1875/1875 [==============================] - 10s 6ms/step - loss: 1.4744e-05 - accuracy: 1.0000 - val_loss: 0.1565 - val_accuracy: 0.9758\n",
      "Epoch 18/25\n",
      "1875/1875 [==============================] - 11s 6ms/step - loss: 5.2641e-06 - accuracy: 1.0000 - val_loss: 0.1588 - val_accuracy: 0.9759\n",
      "Epoch 19/25\n",
      "1875/1875 [==============================] - 10s 6ms/step - loss: 4.2734e-06 - accuracy: 1.0000 - val_loss: 0.1598 - val_accuracy: 0.9763\n",
      "Epoch 20/25\n",
      "1875/1875 [==============================] - 11s 6ms/step - loss: 3.6892e-06 - accuracy: 1.0000 - val_loss: 0.1641 - val_accuracy: 0.9760\n",
      "Epoch 21/25\n",
      "1875/1875 [==============================] - 10s 5ms/step - loss: 3.3005e-06 - accuracy: 1.0000 - val_loss: 0.1641 - val_accuracy: 0.9765\n",
      "Epoch 22/25\n",
      "1875/1875 [==============================] - 10s 5ms/step - loss: 1.0697e-05 - accuracy: 1.0000 - val_loss: 0.1664 - val_accuracy: 0.9758\n",
      "Epoch 23/25\n",
      "1875/1875 [==============================] - 10s 5ms/step - loss: 3.3347e-06 - accuracy: 1.0000 - val_loss: 0.1683 - val_accuracy: 0.9757\n",
      "Epoch 24/25\n",
      "1875/1875 [==============================] - 10s 5ms/step - loss: 2.1691e-06 - accuracy: 1.0000 - val_loss: 0.1684 - val_accuracy: 0.9764\n",
      "Epoch 25/25\n",
      "1875/1875 [==============================] - 10s 5ms/step - loss: 1.9234e-06 - accuracy: 1.0000 - val_loss: 0.1688 - val_accuracy: 0.9765\n"
     ]
    }
   ],
   "source": [
    "#compiling the model\n",
    "model.compile(optimizer='adam',loss= 'sparse_categorical_crossentropy',metrics=['accuracy'])\n",
    "#training the model on test data \n",
    "history= model.fit(x_train,y_train,validation_data=(x_test, y_test),epochs=25)\n"
   ]
  },
  {
   "cell_type": "code",
   "execution_count": 10,
   "metadata": {},
   "outputs": [
    {
     "name": "stdout",
     "output_type": "stream",
     "text": [
      "[[0.         0.         0.         0.         0.         0.\n",
      "  0.         0.         0.         0.         0.         0.\n",
      "  0.         0.         0.         0.         0.         0.\n",
      "  0.         0.         0.         0.         0.         0.\n",
      "  0.         0.         0.         0.        ]\n",
      " [0.         0.         0.         0.         0.         0.\n",
      "  0.         0.         0.         0.         0.         0.\n",
      "  0.         0.         0.         0.         0.         0.\n",
      "  0.         0.         0.         0.         0.         0.\n",
      "  0.         0.         0.         0.        ]\n",
      " [0.         0.         0.         0.         0.         0.\n",
      "  0.         0.         0.         0.         0.         0.\n",
      "  0.         0.         0.         0.         0.         0.\n",
      "  0.         0.         0.         0.         0.         0.\n",
      "  0.         0.         0.         0.        ]\n",
      " [0.         0.         0.         0.         0.         0.\n",
      "  0.         0.         0.         0.         0.         0.\n",
      "  0.         0.         0.         0.         0.         0.\n",
      "  0.         0.         0.         0.         0.         0.\n",
      "  0.         0.         0.         0.        ]\n",
      " [0.         0.         0.         0.         0.         0.\n",
      "  0.         0.         0.         0.         0.         0.\n",
      "  0.         0.         0.         0.         0.         0.\n",
      "  0.         0.         0.         0.         0.         0.\n",
      "  0.         0.         0.         0.        ]\n",
      " [0.         0.         0.         0.         0.         0.\n",
      "  0.         0.         0.         0.         0.         0.\n",
      "  0.         0.         0.         0.         0.         0.\n",
      "  0.         0.         0.11215074 0.55234025 0.57241636 0.\n",
      "  0.         0.         0.         0.        ]\n",
      " [0.         0.         0.         0.         0.08650726 0.16103093\n",
      "  0.         0.         0.         0.         0.         0.\n",
      "  0.         0.         0.         0.         0.         0.\n",
      "  0.         0.         0.20086699 0.42853985 0.57241636 0.\n",
      "  0.         0.         0.         0.        ]\n",
      " [0.         0.         0.         0.         0.17580507 0.3240499\n",
      "  0.         0.         0.         0.         0.         0.\n",
      "  0.         0.         0.         0.         0.         0.\n",
      "  0.         0.00271221 0.25610542 0.49996316 0.5870937  0.\n",
      "  0.         0.         0.         0.        ]\n",
      " [0.         0.         0.         0.         0.30696124 0.3240499\n",
      "  0.         0.         0.         0.         0.         0.\n",
      "  0.         0.         0.         0.         0.         0.\n",
      "  0.         0.03661479 0.42516847 0.38568586 0.         0.\n",
      "  0.         0.         0.         0.        ]\n",
      " [0.         0.         0.         0.         0.3097518  0.3240499\n",
      "  0.         0.         0.         0.         0.         0.\n",
      "  0.         0.         0.         0.         0.         0.\n",
      "  0.         0.24816691 0.42516847 0.29759712 0.         0.\n",
      "  0.         0.         0.         0.        ]\n",
      " [0.         0.         0.         0.13572983 0.3418432  0.3240499\n",
      "  0.         0.         0.         0.         0.         0.\n",
      "  0.         0.         0.         0.         0.         0.\n",
      "  0.         0.26850846 0.42516847 0.13332351 0.         0.\n",
      "  0.         0.         0.         0.        ]\n",
      " [0.         0.         0.         0.35407783 0.3544007  0.3240499\n",
      "  0.         0.         0.         0.         0.         0.\n",
      "  0.         0.         0.         0.         0.         0.\n",
      "  0.02599851 0.31325987 0.42516847 0.06904253 0.         0.\n",
      "  0.         0.         0.         0.        ]\n",
      " [0.         0.         0.         0.46915312 0.3544007  0.23856435\n",
      "  0.         0.         0.         0.         0.         0.\n",
      "  0.         0.         0.         0.         0.         0.\n",
      "  0.18425032 0.34445024 0.36156059 0.03809243 0.         0.\n",
      "  0.         0.         0.         0.        ]\n",
      " [0.         0.         0.         0.46915312 0.3544007  0.13319843\n",
      "  0.         0.         0.         0.         0.         0.\n",
      "  0.         0.         0.         0.05387565 0.34280637 0.33442521\n",
      "  0.28033177 0.34445024 0.15232414 0.         0.         0.\n",
      "  0.         0.         0.         0.        ]\n",
      " [0.         0.         0.         0.46915312 0.3544007  0.16898308\n",
      "  0.         0.         0.         0.1504842  0.17713556 0.41246938\n",
      "  0.51449576 0.60385769 0.86000157 0.93512735 0.93275221 0.33630401\n",
      "  0.27241918 0.34173804 0.06695566 0.         0.         0.\n",
      "  0.         0.         0.         0.        ]\n",
      " [0.         0.         0.         0.44259728 0.35300542 0.47116458\n",
      "  0.76003359 0.76003359 0.76003359 0.81005324 0.91821292 0.88894262\n",
      "  0.85749293 0.79709215 0.51029139 0.35019173 0.11161138 0.00939397\n",
      "  0.26337622 0.33902583 0.         0.         0.         0.\n",
      "  0.         0.         0.         0.        ]\n",
      " [0.         0.         0.         0.         0.16603812 0.35188241\n",
      "  0.64988379 0.64988379 0.64988379 0.56671709 0.35427113 0.19912315\n",
      "  0.         0.         0.         0.         0.         0.19163692\n",
      "  0.28711399 0.29834273 0.         0.         0.         0.\n",
      "  0.         0.         0.         0.        ]\n",
      " [0.         0.         0.         0.         0.         0.\n",
      "  0.         0.         0.         0.         0.         0.\n",
      "  0.         0.         0.         0.         0.         0.31751607\n",
      "  0.28711399 0.18578615 0.         0.         0.         0.\n",
      "  0.         0.         0.         0.        ]\n",
      " [0.         0.         0.         0.         0.         0.\n",
      "  0.         0.         0.         0.         0.         0.\n",
      "  0.         0.         0.         0.         0.         0.31751607\n",
      "  0.28711399 0.07729789 0.         0.         0.         0.\n",
      "  0.         0.         0.         0.        ]\n",
      " [0.         0.         0.         0.         0.         0.\n",
      "  0.         0.         0.         0.         0.         0.\n",
      "  0.         0.         0.         0.         0.         0.31751607\n",
      "  0.28711399 0.07729789 0.         0.         0.         0.\n",
      "  0.         0.         0.         0.        ]\n",
      " [0.         0.         0.         0.         0.         0.\n",
      "  0.         0.         0.         0.         0.         0.\n",
      "  0.         0.         0.         0.         0.         0.31751607\n",
      "  0.28824436 0.12747371 0.         0.         0.         0.\n",
      "  0.         0.         0.         0.        ]\n",
      " [0.         0.         0.         0.         0.         0.\n",
      "  0.         0.         0.         0.         0.         0.\n",
      "  0.         0.         0.         0.         0.         0.31751607\n",
      "  0.28711399 0.13018592 0.         0.         0.         0.\n",
      "  0.         0.         0.         0.        ]\n",
      " [0.         0.         0.         0.         0.         0.\n",
      "  0.         0.         0.         0.         0.         0.\n",
      "  0.         0.         0.         0.         0.         0.31751607\n",
      "  0.28711399 0.20748381 0.         0.         0.         0.\n",
      "  0.         0.         0.         0.        ]\n",
      " [0.         0.         0.         0.         0.         0.\n",
      "  0.         0.         0.         0.         0.         0.\n",
      "  0.         0.         0.         0.         0.         0.31751607\n",
      "  0.28824436 0.20748381 0.         0.         0.         0.\n",
      "  0.         0.         0.         0.        ]\n",
      " [0.         0.         0.         0.         0.         0.\n",
      "  0.         0.         0.         0.         0.         0.\n",
      "  0.         0.         0.         0.         0.         0.18036416\n",
      "  0.28711399 0.20748381 0.         0.         0.         0.\n",
      "  0.         0.         0.         0.        ]\n",
      " [0.         0.         0.         0.         0.         0.\n",
      "  0.         0.         0.         0.         0.         0.\n",
      "  0.         0.         0.         0.         0.         0.\n",
      "  0.         0.         0.         0.         0.         0.\n",
      "  0.         0.         0.         0.        ]\n",
      " [0.         0.         0.         0.         0.         0.\n",
      "  0.         0.         0.         0.         0.         0.\n",
      "  0.         0.         0.         0.         0.         0.\n",
      "  0.         0.         0.         0.         0.         0.\n",
      "  0.         0.         0.         0.        ]\n",
      " [0.         0.         0.         0.         0.         0.\n",
      "  0.         0.         0.         0.         0.         0.\n",
      "  0.         0.         0.         0.         0.         0.\n",
      "  0.         0.         0.         0.         0.         0.\n",
      "  0.         0.         0.         0.        ]]\n"
     ]
    }
   ],
   "source": [
    "img= x_train[2]\n",
    "print(img)"
   ]
  },
  {
   "cell_type": "code",
   "execution_count": 11,
   "metadata": {},
   "outputs": [
    {
     "name": "stdout",
     "output_type": "stream",
     "text": [
      "Model: \"sequential\"\n",
      "_________________________________________________________________\n",
      " Layer (type)                Output Shape              Param #   \n",
      "=================================================================\n",
      " flatten (Flatten)           (None, 784)               0         \n",
      "                                                                 \n",
      " dense (Dense)               (None, 128)               100480    \n",
      "                                                                 \n",
      " dense_1 (Dense)             (None, 10)                1290      \n",
      "                                                                 \n",
      "=================================================================\n",
      "Total params: 101,770\n",
      "Trainable params: 101,770\n",
      "Non-trainable params: 0\n",
      "_________________________________________________________________\n"
     ]
    }
   ],
   "source": [
    "model.summary()"
   ]
  },
  {
   "cell_type": "code",
   "execution_count": 13,
   "metadata": {},
   "outputs": [
    {
     "data": {
      "image/png": "[encoded data removed]",
      "text/plain": [
       "<Figure size 432x288 with 1 Axes>"
      ]
     },
     "metadata": {
      "needs_background": "light"
     },
     "output_type": "display_data"
    }
   ],
   "source": [
    "plt.imshow(x_train[23],cmap=plt.cm.binary)\n",
    "plt.show()"
   ]
  },
  {
   "cell_type": "code",
   "execution_count": 60,
   "metadata": {},
   "outputs": [
    {
     "name": "stdout",
     "output_type": "stream",
     "text": [
      "313/313 [==============================] - 9s 17ms/step - loss: 0.1309 - accuracy: 0.9766\n",
      "Test Loss : 0.13088026642799377, Test Accuracy : 0.9765999913215637\n"
     ]
    }
   ],
   "source": [
    "#evaluating model on the test data \n",
    "test_loss,test_acc= model.evaluate(x_test,y_test)\n",
    "print(\"Test Loss : {}, Test Accuracy : {}\".format(test_loss,test_acc))\n",
    "\n"
   ]
  },
  {
   "cell_type": "code",
   "execution_count": 14,
   "metadata": {},
   "outputs": [
    {
     "data": {
      "text/plain": [
       "<matplotlib.image.AxesImage at 0x7f9324accc40>"
      ]
     },
     "execution_count": 14,
     "metadata": {},
     "output_type": "execute_result"
    },
    {
     "data": {
      "text/plain": [
       "<Figure size 432x288 with 0 Axes>"
      ]
     },
     "metadata": {},
     "output_type": "display_data"
    },
    {
     "data": {
      "image/png": "[encoded data removed]",
      "text/plain": [
       "<Figure size 432x288 with 10 Axes>"
      ]
     },
     "metadata": {
      "needs_background": "light"
     },
     "output_type": "display_data"
    }
   ],
   "source": [
    "plt.subplots_adjust(left=0.1,\n",
    "                    bottom=0.1, \n",
    "                    right=0.9, \n",
    "                    top=0.9, \n",
    "                    wspace=0.4, \n",
    "                    hspace=0.4)\n",
    "f, axarr = plt.subplots(2,5)\n",
    "axarr[0,0].imshow(x_train[21])\n",
    "axarr[0,1].imshow(x_train[23])\n",
    "axarr[0,2].imshow(x_train[5])\n",
    "axarr[0,3].imshow(x_train[7])\n",
    "axarr[0,4].imshow(x_train[2])\n",
    "axarr[1,0].imshow(x_train[0])\n",
    "axarr[1,1].imshow(x_train[13])\n",
    "axarr[1,2].imshow(x_train[15])\n",
    "axarr[1,3].imshow(x_train[17])\n",
    "axarr[1,4].imshow(x_train[4])"
   ]
  },
  {
   "cell_type": "markdown",
   "metadata": {},
   "source": [
    "Evaluation "
   ]
  },
  {
   "cell_type": "code",
   "execution_count": 35,
   "metadata": {},
   "outputs": [
    {
     "name": "stdout",
     "output_type": "stream",
     "text": [
      "313/313 [==============================] - 1s 4ms/step\n",
      "[[1.2890180e-09 1.8868257e-10 1.5498929e-09 ... 9.9999613e-01\n",
      "  1.5779024e-08 5.6758861e-08]\n",
      " [7.9829594e-11 1.2456752e-05 9.9998707e-01 ... 2.7613836e-12\n",
      "  2.4705554e-10 9.2107709e-15]\n",
      " [3.7097886e-10 9.9996585e-01 7.7836467e-06 ... 3.4366528e-06\n",
      "  2.2161050e-05 3.5484363e-10]\n",
      " ...\n",
      " [1.7063625e-13 4.0752821e-11 1.4107780e-11 ... 9.5539860e-07\n",
      "  5.9459083e-08 2.5480784e-05]\n",
      " [4.7413057e-10 2.5316277e-08 3.7113848e-10 ... 5.1336579e-10\n",
      "  6.4456053e-06 7.4229885e-13]\n",
      " [3.0346154e-08 4.3323078e-09 6.1567846e-08 ... 5.9855979e-12\n",
      "  6.7515209e-11 1.4529678e-11]]\n",
      "[7 2 1 ... 4 5 6]\n"
     ]
    }
   ],
   "source": [
    "y_pred = model.predict(x_test)\n",
    "y_pred_classes = np.argmax(y_pred,axis=1)\n",
    "print(y_pred)\n",
    "print(y_pred_classes)"
   ]
  },
  {
   "cell_type": "code",
   "execution_count": 37,
   "metadata": {},
   "outputs": [
    {
     "data": {
      "text/plain": [
       "0.9758115214635724"
      ]
     },
     "execution_count": 37,
     "metadata": {},
     "output_type": "execute_result"
    }
   ],
   "source": [
    "#Precision Score\n",
    "from sklearn.metrics import precision_score\n",
    "precision_score(y_test, y_pred_classes,average='macro')\n"
   ]
  },
  {
   "cell_type": "code",
   "execution_count": 38,
   "metadata": {},
   "outputs": [
    {
     "data": {
      "text/plain": [
       "0.9758077017243357"
      ]
     },
     "execution_count": 38,
     "metadata": {},
     "output_type": "execute_result"
    }
   ],
   "source": [
    "#Recall Score \n",
    "from sklearn.metrics import recall_score\n",
    "recall_score(y_test, y_pred_classes,average='macro')"
   ]
  },
  {
   "cell_type": "code",
   "execution_count": 45,
   "metadata": {},
   "outputs": [
    {
     "name": "stdout",
     "output_type": "stream",
     "text": [
      "[7 2 1 ... 4 5 6]\n",
      "[7 2 1 ... 4 5 6]\n"
     ]
    }
   ],
   "source": [
    "print(y_test)\n",
    "print(y_pred_classes)"
   ]
  },
  {
   "cell_type": "code",
   "execution_count": 44,
   "metadata": {},
   "outputs": [],
   "source": [
    "import seaborn as sns\n",
    "from sklearn.metrics import confusion_matrix"
   ]
  },
  {
   "cell_type": "code",
   "execution_count": 43,
   "metadata": {},
   "outputs": [
    {
     "data": {
      "image/png": "[encoded data removed]",
      "text/plain": [
       "<Figure size 1080x720 with 2 Axes>"
      ]
     },
     "metadata": {
      "needs_background": "light"
     },
     "output_type": "display_data"
    }
   ],
   "source": [
    "Confusion_Matrix = confusion_matrix(y_test,y_pred_classes)\n",
    "\n",
    "#visualizing Confusion Matrix\n",
    "figure,ax = plt.subplots(figsize =(15,10))\n",
    "ax = sns.heatmap(Confusion_Matrix,annot=True,fmt='d',ax=ax,cmap=\"Greens\")\n",
    "ax.set_xlabel(\"Predicted Value\")\n",
    "ax.set_ylabel(\"Actual Value\")\n",
    "ax.set_title('Confusion Matrix');"
   ]
  },
  {
   "cell_type": "code",
   "execution_count": 50,
   "metadata": {},
   "outputs": [
    {
     "data": {
      "text/plain": [
       "array([0.98377282, 0.98591549, 0.97969052, 0.97123016, 0.97498724,\n",
       "       0.97085202, 0.97810219, 0.9761789 , 0.9691358 , 0.9681592 ])"
      ]
     },
     "execution_count": 50,
     "metadata": {},
     "output_type": "execute_result"
    }
   ],
   "source": [
    "#F1\n",
    "from sklearn.metrics import f1_score\n",
    "f1_score(y_test,y_pred_classes,average=None)"
   ]
  },
  {
   "cell_type": "markdown",
   "metadata": {},
   "source": [
    "Train VS  Test Data Accuracy  PLOT"
   ]
  },
  {
   "cell_type": "code",
   "execution_count": 65,
   "metadata": {},
   "outputs": [
    {
     "data": {
      "image/png": "[encoded data removed]",
      "text/plain": [
       "<Figure size 432x288 with 1 Axes>"
      ]
     },
     "metadata": {
      "needs_background": "light"
     },
     "output_type": "display_data"
    }
   ],
   "source": [
    "\n",
    "plt.plot(history.history['accuracy'])\n",
    "plt.plot(history.history['val_accuracy'])\n",
    "plt.title('model accuracy')\n",
    "plt.ylabel('accuracy')\n",
    "plt.xlabel('epoch')\n",
    "plt.legend(['train', 'val'], loc='upper left')\n",
    "plt.show()\n",
    "\n"
   ]
  }
 ],
 "metadata": {
  "kernelspec": {
   "display_name": "Python 3.8.10 64-bit",
   "language": "python",
   "name": "python3"
  },
  "language_info": {
   "codemirror_mode": {
    "name": "ipython",
    "version": 3
   },
   "file_extension": ".py",
   "mimetype": "text/x-python",
   "name": "python",
   "nbconvert_exporter": "python",
   "pygments_lexer": "ipython3",
   "version": "3.8.10"
  },
  "orig_nbformat": 4,
  "vscode": {
   "interpreter": {
    "hash": "916dbcbb3f70747c44a77c7bcd40155683ae19c65e1c03b4aa3499c5328201f1"
   }
  }
 },
 "nbformat": 4,
 "nbformat_minor": 2
}
